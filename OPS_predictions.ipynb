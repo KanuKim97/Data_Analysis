{
 "metadata": {
  "language_info": {
   "codemirror_mode": {
    "name": "ipython",
    "version": 3
   },
   "file_extension": ".py",
   "mimetype": "text/x-python",
   "name": "python",
   "nbconvert_exporter": "python",
   "pygments_lexer": "ipython3",
   "version": "3.7.8-final"
  },
  "orig_nbformat": 2,
  "kernelspec": {
   "name": "python3",
   "display_name": "Python 3.7.8 64-bit",
   "metadata": {
    "interpreter": {
     "hash": "9688143c71a2d290c2687b3e139d90d71774d731ef2186c44b810329f4e8603a"
    }
   }
  }
 },
 "nbformat": 4,
 "nbformat_minor": 2,
 "cells": [
  {
   "cell_type": "code",
   "execution_count": 3,
   "metadata": {},
   "outputs": [
    {
     "output_type": "stream",
     "name": "stdout",
     "text": [
      "(1393, 29)\n"
     ]
    },
    {
     "output_type": "display_data",
     "data": {
      "text/plain": "   batter_id batter_name  year team    avg   G  AB  R  H  2B  ...  GDP    SLG  \\\n0          0        가르시아  2018   LG  0.350   7  20  1  7   1  ...    1  0.550   \n1          1         강경학  2011   한화  0.000   4   2  2  0   0  ...    0  0.000   \n2          1         강경학  2014   한화      -   4   0  2  0   0  ...    0    NaN   \n3          1         강경학  2015   한화  0.130  10  23  3  3   0  ...    0  0.130   \n4          1         강경학  2016   한화  0.188  14  32  4  6   1  ...    0  0.281   \n\n     OBP  E  height/weight      year_born   position  \\\n0  0.409  1     177cm/93kg  1985년 04월 12일  내야수(우투우타)   \n1  0.500  0     180cm/72kg  1992년 08월 11일  내야수(우투좌타)   \n2    NaN  0     180cm/72kg  1992년 08월 11일  내야수(우투좌타)   \n3  0.286  2     180cm/72kg  1992년 08월 11일  내야수(우투좌타)   \n4  0.212  0     180cm/72kg  1992년 08월 11일  내야수(우투좌타)   \n\n                                   career  starting_salary    OPS  \n0  쿠바 Ciego de Avila Maximo Gomez Baez(대)              NaN  0.959  \n1                       광주대성초-광주동성중-광주동성고          10000만원  0.500  \n2                       광주대성초-광주동성중-광주동성고          10000만원    NaN  \n3                       광주대성초-광주동성중-광주동성고          10000만원  0.416  \n4                       광주대성초-광주동성중-광주동성고          10000만원  0.493  \n\n[5 rows x 29 columns]",
      "text/html": "<div>\n<style scoped>\n    .dataframe tbody tr th:only-of-type {\n        vertical-align: middle;\n    }\n\n    .dataframe tbody tr th {\n        vertical-align: top;\n    }\n\n    .dataframe thead th {\n        text-align: right;\n    }\n</style>\n<table border=\"1\" class=\"dataframe\">\n  <thead>\n    <tr style=\"text-align: right;\">\n      <th></th>\n      <th>batter_id</th>\n      <th>batter_name</th>\n      <th>year</th>\n      <th>team</th>\n      <th>avg</th>\n      <th>G</th>\n      <th>AB</th>\n      <th>R</th>\n      <th>H</th>\n      <th>2B</th>\n      <th>...</th>\n      <th>GDP</th>\n      <th>SLG</th>\n      <th>OBP</th>\n      <th>E</th>\n      <th>height/weight</th>\n      <th>year_born</th>\n      <th>position</th>\n      <th>career</th>\n      <th>starting_salary</th>\n      <th>OPS</th>\n    </tr>\n  </thead>\n  <tbody>\n    <tr>\n      <th>0</th>\n      <td>0</td>\n      <td>가르시아</td>\n      <td>2018</td>\n      <td>LG</td>\n      <td>0.350</td>\n      <td>7</td>\n      <td>20</td>\n      <td>1</td>\n      <td>7</td>\n      <td>1</td>\n      <td>...</td>\n      <td>1</td>\n      <td>0.550</td>\n      <td>0.409</td>\n      <td>1</td>\n      <td>177cm/93kg</td>\n      <td>1985년 04월 12일</td>\n      <td>내야수(우투우타)</td>\n      <td>쿠바 Ciego de Avila Maximo Gomez Baez(대)</td>\n      <td>NaN</td>\n      <td>0.959</td>\n    </tr>\n    <tr>\n      <th>1</th>\n      <td>1</td>\n      <td>강경학</td>\n      <td>2011</td>\n      <td>한화</td>\n      <td>0.000</td>\n      <td>4</td>\n      <td>2</td>\n      <td>2</td>\n      <td>0</td>\n      <td>0</td>\n      <td>...</td>\n      <td>0</td>\n      <td>0.000</td>\n      <td>0.500</td>\n      <td>0</td>\n      <td>180cm/72kg</td>\n      <td>1992년 08월 11일</td>\n      <td>내야수(우투좌타)</td>\n      <td>광주대성초-광주동성중-광주동성고</td>\n      <td>10000만원</td>\n      <td>0.500</td>\n    </tr>\n    <tr>\n      <th>2</th>\n      <td>1</td>\n      <td>강경학</td>\n      <td>2014</td>\n      <td>한화</td>\n      <td>-</td>\n      <td>4</td>\n      <td>0</td>\n      <td>2</td>\n      <td>0</td>\n      <td>0</td>\n      <td>...</td>\n      <td>0</td>\n      <td>NaN</td>\n      <td>NaN</td>\n      <td>0</td>\n      <td>180cm/72kg</td>\n      <td>1992년 08월 11일</td>\n      <td>내야수(우투좌타)</td>\n      <td>광주대성초-광주동성중-광주동성고</td>\n      <td>10000만원</td>\n      <td>NaN</td>\n    </tr>\n    <tr>\n      <th>3</th>\n      <td>1</td>\n      <td>강경학</td>\n      <td>2015</td>\n      <td>한화</td>\n      <td>0.130</td>\n      <td>10</td>\n      <td>23</td>\n      <td>3</td>\n      <td>3</td>\n      <td>0</td>\n      <td>...</td>\n      <td>0</td>\n      <td>0.130</td>\n      <td>0.286</td>\n      <td>2</td>\n      <td>180cm/72kg</td>\n      <td>1992년 08월 11일</td>\n      <td>내야수(우투좌타)</td>\n      <td>광주대성초-광주동성중-광주동성고</td>\n      <td>10000만원</td>\n      <td>0.416</td>\n    </tr>\n    <tr>\n      <th>4</th>\n      <td>1</td>\n      <td>강경학</td>\n      <td>2016</td>\n      <td>한화</td>\n      <td>0.188</td>\n      <td>14</td>\n      <td>32</td>\n      <td>4</td>\n      <td>6</td>\n      <td>1</td>\n      <td>...</td>\n      <td>0</td>\n      <td>0.281</td>\n      <td>0.212</td>\n      <td>0</td>\n      <td>180cm/72kg</td>\n      <td>1992년 08월 11일</td>\n      <td>내야수(우투좌타)</td>\n      <td>광주대성초-광주동성중-광주동성고</td>\n      <td>10000만원</td>\n      <td>0.493</td>\n    </tr>\n  </tbody>\n</table>\n<p>5 rows × 29 columns</p>\n</div>"
     },
     "metadata": {}
    },
    {
     "output_type": "display_data",
     "data": {
      "text/plain": "         batter_id         year            G           AB            R  \\\ncount  1393.000000  1393.000000  1393.000000  1393.000000  1393.000000   \nmean    173.434314  2013.014358     8.705671    19.201723     2.679828   \nstd      94.716851     4.166757     5.562686    13.395946     2.637212   \nmin       0.000000  2002.000000     1.000000     0.000000     0.000000   \n25%      99.000000  2010.000000     6.000000     9.000000     1.000000   \n50%     178.000000  2014.000000     9.000000    18.000000     2.000000   \n75%     254.000000  2017.000000    11.000000    28.000000     4.000000   \nmax     344.000000  2018.000000   119.000000   183.000000    35.000000   \n\n                 H           2B           3B           HR           TB  ...  \\\ncount  1393.000000  1393.000000  1393.000000  1393.000000  1393.000000  ...   \nmean      5.021536     0.954774     0.119885     0.391960     7.391960  ...   \nstd       4.232584     1.196904     0.379976     0.748557     6.538787  ...   \nmin       0.000000     0.000000     0.000000     0.000000     0.000000  ...   \n25%       2.000000     0.000000     0.000000     0.000000     2.000000  ...   \n50%       4.000000     1.000000     0.000000     0.000000     6.000000  ...   \n75%       8.000000     2.000000     0.000000     1.000000    11.000000  ...   \nmax      51.000000    11.000000     4.000000     5.000000    68.000000  ...   \n\n                SB           CS           BB          HBP           SO  \\\ncount  1393.000000  1393.000000  1393.000000  1393.000000  1393.000000   \nmean      0.629576     0.291457     1.877961     0.330223     3.714286   \nstd       1.146854     0.595522     2.053392     0.642204     3.180884   \nmin       0.000000     0.000000     0.000000     0.000000     0.000000   \n25%       0.000000     0.000000     0.000000     0.000000     1.000000   \n50%       0.000000     0.000000     1.000000     0.000000     3.000000   \n75%       1.000000     0.000000     3.000000     1.000000     5.000000   \nmax       9.000000     4.000000    21.000000     4.000000    36.000000   \n\n               GDP          SLG          OBP            E          OPS  \ncount  1393.000000  1364.000000  1368.000000  1393.000000  1364.000000  \nmean      0.447236     0.361012     0.317912     0.381910     0.676924  \nstd       0.723364     0.269892     0.151489     0.729521     0.386933  \nmin       0.000000     0.000000     0.000000     0.000000     0.000000  \n25%       0.000000     0.217000     0.250000     0.000000     0.472000  \n50%       0.000000     0.344500     0.333000     0.000000     0.675000  \n75%       1.000000     0.478000     0.400000     1.000000     0.867000  \nmax       5.000000     4.000000     1.000000     5.000000     5.000000  \n\n[8 rows x 21 columns]",
      "text/html": "<div>\n<style scoped>\n    .dataframe tbody tr th:only-of-type {\n        vertical-align: middle;\n    }\n\n    .dataframe tbody tr th {\n        vertical-align: top;\n    }\n\n    .dataframe thead th {\n        text-align: right;\n    }\n</style>\n<table border=\"1\" class=\"dataframe\">\n  <thead>\n    <tr style=\"text-align: right;\">\n      <th></th>\n      <th>batter_id</th>\n      <th>year</th>\n      <th>G</th>\n      <th>AB</th>\n      <th>R</th>\n      <th>H</th>\n      <th>2B</th>\n      <th>3B</th>\n      <th>HR</th>\n      <th>TB</th>\n      <th>...</th>\n      <th>SB</th>\n      <th>CS</th>\n      <th>BB</th>\n      <th>HBP</th>\n      <th>SO</th>\n      <th>GDP</th>\n      <th>SLG</th>\n      <th>OBP</th>\n      <th>E</th>\n      <th>OPS</th>\n    </tr>\n  </thead>\n  <tbody>\n    <tr>\n      <th>count</th>\n      <td>1393.000000</td>\n      <td>1393.000000</td>\n      <td>1393.000000</td>\n      <td>1393.000000</td>\n      <td>1393.000000</td>\n      <td>1393.000000</td>\n      <td>1393.000000</td>\n      <td>1393.000000</td>\n      <td>1393.000000</td>\n      <td>1393.000000</td>\n      <td>...</td>\n      <td>1393.000000</td>\n      <td>1393.000000</td>\n      <td>1393.000000</td>\n      <td>1393.000000</td>\n      <td>1393.000000</td>\n      <td>1393.000000</td>\n      <td>1364.000000</td>\n      <td>1368.000000</td>\n      <td>1393.000000</td>\n      <td>1364.000000</td>\n    </tr>\n    <tr>\n      <th>mean</th>\n      <td>173.434314</td>\n      <td>2013.014358</td>\n      <td>8.705671</td>\n      <td>19.201723</td>\n      <td>2.679828</td>\n      <td>5.021536</td>\n      <td>0.954774</td>\n      <td>0.119885</td>\n      <td>0.391960</td>\n      <td>7.391960</td>\n      <td>...</td>\n      <td>0.629576</td>\n      <td>0.291457</td>\n      <td>1.877961</td>\n      <td>0.330223</td>\n      <td>3.714286</td>\n      <td>0.447236</td>\n      <td>0.361012</td>\n      <td>0.317912</td>\n      <td>0.381910</td>\n      <td>0.676924</td>\n    </tr>\n    <tr>\n      <th>std</th>\n      <td>94.716851</td>\n      <td>4.166757</td>\n      <td>5.562686</td>\n      <td>13.395946</td>\n      <td>2.637212</td>\n      <td>4.232584</td>\n      <td>1.196904</td>\n      <td>0.379976</td>\n      <td>0.748557</td>\n      <td>6.538787</td>\n      <td>...</td>\n      <td>1.146854</td>\n      <td>0.595522</td>\n      <td>2.053392</td>\n      <td>0.642204</td>\n      <td>3.180884</td>\n      <td>0.723364</td>\n      <td>0.269892</td>\n      <td>0.151489</td>\n      <td>0.729521</td>\n      <td>0.386933</td>\n    </tr>\n    <tr>\n      <th>min</th>\n      <td>0.000000</td>\n      <td>2002.000000</td>\n      <td>1.000000</td>\n      <td>0.000000</td>\n      <td>0.000000</td>\n      <td>0.000000</td>\n      <td>0.000000</td>\n      <td>0.000000</td>\n      <td>0.000000</td>\n      <td>0.000000</td>\n      <td>...</td>\n      <td>0.000000</td>\n      <td>0.000000</td>\n      <td>0.000000</td>\n      <td>0.000000</td>\n      <td>0.000000</td>\n      <td>0.000000</td>\n      <td>0.000000</td>\n      <td>0.000000</td>\n      <td>0.000000</td>\n      <td>0.000000</td>\n    </tr>\n    <tr>\n      <th>25%</th>\n      <td>99.000000</td>\n      <td>2010.000000</td>\n      <td>6.000000</td>\n      <td>9.000000</td>\n      <td>1.000000</td>\n      <td>2.000000</td>\n      <td>0.000000</td>\n      <td>0.000000</td>\n      <td>0.000000</td>\n      <td>2.000000</td>\n      <td>...</td>\n      <td>0.000000</td>\n      <td>0.000000</td>\n      <td>0.000000</td>\n      <td>0.000000</td>\n      <td>1.000000</td>\n      <td>0.000000</td>\n      <td>0.217000</td>\n      <td>0.250000</td>\n      <td>0.000000</td>\n      <td>0.472000</td>\n    </tr>\n    <tr>\n      <th>50%</th>\n      <td>178.000000</td>\n      <td>2014.000000</td>\n      <td>9.000000</td>\n      <td>18.000000</td>\n      <td>2.000000</td>\n      <td>4.000000</td>\n      <td>1.000000</td>\n      <td>0.000000</td>\n      <td>0.000000</td>\n      <td>6.000000</td>\n      <td>...</td>\n      <td>0.000000</td>\n      <td>0.000000</td>\n      <td>1.000000</td>\n      <td>0.000000</td>\n      <td>3.000000</td>\n      <td>0.000000</td>\n      <td>0.344500</td>\n      <td>0.333000</td>\n      <td>0.000000</td>\n      <td>0.675000</td>\n    </tr>\n    <tr>\n      <th>75%</th>\n      <td>254.000000</td>\n      <td>2017.000000</td>\n      <td>11.000000</td>\n      <td>28.000000</td>\n      <td>4.000000</td>\n      <td>8.000000</td>\n      <td>2.000000</td>\n      <td>0.000000</td>\n      <td>1.000000</td>\n      <td>11.000000</td>\n      <td>...</td>\n      <td>1.000000</td>\n      <td>0.000000</td>\n      <td>3.000000</td>\n      <td>1.000000</td>\n      <td>5.000000</td>\n      <td>1.000000</td>\n      <td>0.478000</td>\n      <td>0.400000</td>\n      <td>1.000000</td>\n      <td>0.867000</td>\n    </tr>\n    <tr>\n      <th>max</th>\n      <td>344.000000</td>\n      <td>2018.000000</td>\n      <td>119.000000</td>\n      <td>183.000000</td>\n      <td>35.000000</td>\n      <td>51.000000</td>\n      <td>11.000000</td>\n      <td>4.000000</td>\n      <td>5.000000</td>\n      <td>68.000000</td>\n      <td>...</td>\n      <td>9.000000</td>\n      <td>4.000000</td>\n      <td>21.000000</td>\n      <td>4.000000</td>\n      <td>36.000000</td>\n      <td>5.000000</td>\n      <td>4.000000</td>\n      <td>1.000000</td>\n      <td>5.000000</td>\n      <td>5.000000</td>\n    </tr>\n  </tbody>\n</table>\n<p>8 rows × 21 columns</p>\n</div>"
     },
     "metadata": {}
    },
    {
     "output_type": "stream",
     "name": "stdout",
     "text": [
      "(1358, 30) (1358, 30)\n"
     ]
    },
    {
     "output_type": "error",
     "ename": "AttributeError",
     "evalue": "'Text' object has no property 'font_size'",
     "traceback": [
      "\u001b[1;31m---------------------------------------------------------------------------\u001b[0m",
      "\u001b[1;31mAttributeError\u001b[0m                            Traceback (most recent call last)",
      "\u001b[1;32m<ipython-input-3-b9311339a7f2>\u001b[0m in \u001b[0;36m<module>\u001b[1;34m\u001b[0m\n\u001b[0;32m     51\u001b[0m \u001b[0mcorrelation\u001b[0m \u001b[1;33m=\u001b[0m \u001b[0mregular_season_new\u001b[0m\u001b[1;33m[\u001b[0m\u001b[1;34m'OPS'\u001b[0m\u001b[1;33m]\u001b[0m\u001b[1;33m.\u001b[0m\u001b[0mcorr\u001b[0m\u001b[1;33m(\u001b[0m\u001b[0mpreseason_new\u001b[0m\u001b[1;33m[\u001b[0m\u001b[1;34m'OPS'\u001b[0m\u001b[1;33m]\u001b[0m\u001b[1;33m)\u001b[0m\u001b[1;33m\u001b[0m\u001b[1;33m\u001b[0m\u001b[0m\n\u001b[0;32m     52\u001b[0m \u001b[0msns\u001b[0m\u001b[1;33m.\u001b[0m\u001b[0mscatterplot\u001b[0m\u001b[1;33m(\u001b[0m\u001b[0mregular_season_new\u001b[0m\u001b[1;33m[\u001b[0m\u001b[1;34m'OPS'\u001b[0m\u001b[1;33m]\u001b[0m\u001b[1;33m,\u001b[0m \u001b[0mpreseason_new\u001b[0m\u001b[1;33m[\u001b[0m\u001b[1;34m'OPS'\u001b[0m\u001b[1;33m]\u001b[0m\u001b[1;33m)\u001b[0m\u001b[1;33m\u001b[0m\u001b[1;33m\u001b[0m\u001b[0m\n\u001b[1;32m---> 53\u001b[1;33m \u001b[0mplt\u001b[0m\u001b[1;33m.\u001b[0m\u001b[0mtitle\u001b[0m\u001b[1;33m(\u001b[0m\u001b[1;34m'correlation(상관계수): '\u001b[0m \u001b[1;33m+\u001b[0m \u001b[0mstr\u001b[0m\u001b[1;33m(\u001b[0m\u001b[0mnp\u001b[0m\u001b[1;33m.\u001b[0m\u001b[0mround\u001b[0m\u001b[1;33m(\u001b[0m\u001b[0mcorrelation\u001b[0m\u001b[1;33m,\u001b[0m \u001b[1;36m2\u001b[0m\u001b[1;33m)\u001b[0m\u001b[1;33m)\u001b[0m\u001b[1;33m,\u001b[0m \u001b[0mfont_size\u001b[0m\u001b[1;33m=\u001b[0m\u001b[1;36m20\u001b[0m\u001b[1;33m)\u001b[0m\u001b[1;33m\u001b[0m\u001b[1;33m\u001b[0m\u001b[0m\n\u001b[0m\u001b[0;32m     54\u001b[0m \u001b[0mplt\u001b[0m\u001b[1;33m.\u001b[0m\u001b[0mxlabel\u001b[0m\u001b[1;33m(\u001b[0m\u001b[1;34m\"정규시즌 OPS\"\u001b[0m\u001b[1;33m,\u001b[0m \u001b[0mfont_size\u001b[0m \u001b[1;33m=\u001b[0m \u001b[1;36m12\u001b[0m\u001b[1;33m)\u001b[0m\u001b[1;33m\u001b[0m\u001b[1;33m\u001b[0m\u001b[0m\n\u001b[0;32m     55\u001b[0m \u001b[0mplt\u001b[0m\u001b[1;33m.\u001b[0m\u001b[0mylabel\u001b[0m\u001b[1;33m(\u001b[0m\u001b[1;34m\"프리시즌 OPS\"\u001b[0m\u001b[1;33m,\u001b[0m \u001b[0mfont_size\u001b[0m \u001b[1;33m=\u001b[0m \u001b[1;36m12\u001b[0m\u001b[1;33m)\u001b[0m\u001b[1;33m\u001b[0m\u001b[1;33m\u001b[0m\u001b[0m\n",
      "\u001b[1;32m~\\AppData\\Local\\Programs\\Python\\Python37\\lib\\site-packages\\matplotlib\\pyplot.py\u001b[0m in \u001b[0;36mtitle\u001b[1;34m(label, fontdict, loc, pad, y, **kwargs)\u001b[0m\n\u001b[0;32m   3107\u001b[0m \u001b[1;32mdef\u001b[0m \u001b[0mtitle\u001b[0m\u001b[1;33m(\u001b[0m\u001b[0mlabel\u001b[0m\u001b[1;33m,\u001b[0m \u001b[0mfontdict\u001b[0m\u001b[1;33m=\u001b[0m\u001b[1;32mNone\u001b[0m\u001b[1;33m,\u001b[0m \u001b[0mloc\u001b[0m\u001b[1;33m=\u001b[0m\u001b[1;32mNone\u001b[0m\u001b[1;33m,\u001b[0m \u001b[0mpad\u001b[0m\u001b[1;33m=\u001b[0m\u001b[1;32mNone\u001b[0m\u001b[1;33m,\u001b[0m \u001b[1;33m*\u001b[0m\u001b[1;33m,\u001b[0m \u001b[0my\u001b[0m\u001b[1;33m=\u001b[0m\u001b[1;32mNone\u001b[0m\u001b[1;33m,\u001b[0m \u001b[1;33m**\u001b[0m\u001b[0mkwargs\u001b[0m\u001b[1;33m)\u001b[0m\u001b[1;33m:\u001b[0m\u001b[1;33m\u001b[0m\u001b[1;33m\u001b[0m\u001b[0m\n\u001b[0;32m   3108\u001b[0m     return gca().set_title(\n\u001b[1;32m-> 3109\u001b[1;33m         label, fontdict=fontdict, loc=loc, pad=pad, y=y, **kwargs)\n\u001b[0m\u001b[0;32m   3110\u001b[0m \u001b[1;33m\u001b[0m\u001b[0m\n\u001b[0;32m   3111\u001b[0m \u001b[1;33m\u001b[0m\u001b[0m\n",
      "\u001b[1;32m~\\AppData\\Local\\Programs\\Python\\Python37\\lib\\site-packages\\matplotlib\\axes\\_axes.py\u001b[0m in \u001b[0;36mset_title\u001b[1;34m(self, label, fontdict, loc, pad, y, **kwargs)\u001b[0m\n\u001b[0;32m    191\u001b[0m         \u001b[1;32mif\u001b[0m \u001b[0mfontdict\u001b[0m \u001b[1;32mis\u001b[0m \u001b[1;32mnot\u001b[0m \u001b[1;32mNone\u001b[0m\u001b[1;33m:\u001b[0m\u001b[1;33m\u001b[0m\u001b[1;33m\u001b[0m\u001b[0m\n\u001b[0;32m    192\u001b[0m             \u001b[0mtitle\u001b[0m\u001b[1;33m.\u001b[0m\u001b[0mupdate\u001b[0m\u001b[1;33m(\u001b[0m\u001b[0mfontdict\u001b[0m\u001b[1;33m)\u001b[0m\u001b[1;33m\u001b[0m\u001b[1;33m\u001b[0m\u001b[0m\n\u001b[1;32m--> 193\u001b[1;33m         \u001b[0mtitle\u001b[0m\u001b[1;33m.\u001b[0m\u001b[0mupdate\u001b[0m\u001b[1;33m(\u001b[0m\u001b[0mkwargs\u001b[0m\u001b[1;33m)\u001b[0m\u001b[1;33m\u001b[0m\u001b[1;33m\u001b[0m\u001b[0m\n\u001b[0m\u001b[0;32m    194\u001b[0m         \u001b[1;32mreturn\u001b[0m \u001b[0mtitle\u001b[0m\u001b[1;33m\u001b[0m\u001b[1;33m\u001b[0m\u001b[0m\n\u001b[0;32m    195\u001b[0m \u001b[1;33m\u001b[0m\u001b[0m\n",
      "\u001b[1;32m~\\AppData\\Local\\Programs\\Python\\Python37\\lib\\site-packages\\matplotlib\\text.py\u001b[0m in \u001b[0;36mupdate\u001b[1;34m(self, kwargs)\u001b[0m\n\u001b[0;32m    177\u001b[0m         \u001b[1;31m# Update bbox last, as it depends on font properties.\u001b[0m\u001b[1;33m\u001b[0m\u001b[1;33m\u001b[0m\u001b[1;33m\u001b[0m\u001b[0m\n\u001b[0;32m    178\u001b[0m         \u001b[0mbbox\u001b[0m \u001b[1;33m=\u001b[0m \u001b[0mkwargs\u001b[0m\u001b[1;33m.\u001b[0m\u001b[0mpop\u001b[0m\u001b[1;33m(\u001b[0m\u001b[1;34m\"bbox\"\u001b[0m\u001b[1;33m,\u001b[0m \u001b[0msentinel\u001b[0m\u001b[1;33m)\u001b[0m\u001b[1;33m\u001b[0m\u001b[1;33m\u001b[0m\u001b[0m\n\u001b[1;32m--> 179\u001b[1;33m         \u001b[0msuper\u001b[0m\u001b[1;33m(\u001b[0m\u001b[1;33m)\u001b[0m\u001b[1;33m.\u001b[0m\u001b[0mupdate\u001b[0m\u001b[1;33m(\u001b[0m\u001b[0mkwargs\u001b[0m\u001b[1;33m)\u001b[0m\u001b[1;33m\u001b[0m\u001b[1;33m\u001b[0m\u001b[0m\n\u001b[0m\u001b[0;32m    180\u001b[0m         \u001b[1;32mif\u001b[0m \u001b[0mbbox\u001b[0m \u001b[1;32mis\u001b[0m \u001b[1;32mnot\u001b[0m \u001b[0msentinel\u001b[0m\u001b[1;33m:\u001b[0m\u001b[1;33m\u001b[0m\u001b[1;33m\u001b[0m\u001b[0m\n\u001b[0;32m    181\u001b[0m             \u001b[0mself\u001b[0m\u001b[1;33m.\u001b[0m\u001b[0mset_bbox\u001b[0m\u001b[1;33m(\u001b[0m\u001b[0mbbox\u001b[0m\u001b[1;33m)\u001b[0m\u001b[1;33m\u001b[0m\u001b[1;33m\u001b[0m\u001b[0m\n",
      "\u001b[1;32m~\\AppData\\Local\\Programs\\Python\\Python37\\lib\\site-packages\\matplotlib\\artist.py\u001b[0m in \u001b[0;36mupdate\u001b[1;34m(self, props)\u001b[0m\n\u001b[0;32m    994\u001b[0m                     \u001b[0mfunc\u001b[0m \u001b[1;33m=\u001b[0m \u001b[0mgetattr\u001b[0m\u001b[1;33m(\u001b[0m\u001b[0mself\u001b[0m\u001b[1;33m,\u001b[0m \u001b[1;34mf\"set_{k}\"\u001b[0m\u001b[1;33m,\u001b[0m \u001b[1;32mNone\u001b[0m\u001b[1;33m)\u001b[0m\u001b[1;33m\u001b[0m\u001b[1;33m\u001b[0m\u001b[0m\n\u001b[0;32m    995\u001b[0m                     \u001b[1;32mif\u001b[0m \u001b[1;32mnot\u001b[0m \u001b[0mcallable\u001b[0m\u001b[1;33m(\u001b[0m\u001b[0mfunc\u001b[0m\u001b[1;33m)\u001b[0m\u001b[1;33m:\u001b[0m\u001b[1;33m\u001b[0m\u001b[1;33m\u001b[0m\u001b[0m\n\u001b[1;32m--> 996\u001b[1;33m                         raise AttributeError(f\"{type(self).__name__!r} object \"\n\u001b[0m\u001b[0;32m    997\u001b[0m                                              f\"has no property {k!r}\")\n\u001b[0;32m    998\u001b[0m                     \u001b[0mret\u001b[0m\u001b[1;33m.\u001b[0m\u001b[0mappend\u001b[0m\u001b[1;33m(\u001b[0m\u001b[0mfunc\u001b[0m\u001b[1;33m(\u001b[0m\u001b[0mv\u001b[0m\u001b[1;33m)\u001b[0m\u001b[1;33m)\u001b[0m\u001b[1;33m\u001b[0m\u001b[1;33m\u001b[0m\u001b[0m\n",
      "\u001b[1;31mAttributeError\u001b[0m: 'Text' object has no property 'font_size'"
     ]
    }
   ],
   "source": [
    "from matplotlib import font_manager, rc\n",
    "import matplotlib\n",
    "import matplotlib.pyplot as plt\n",
    "import seaborn as sns\n",
    "import pandas as pd\n",
    "import numpy as np\n",
    "import platform\n",
    "\n",
    "if platform.system() == 'Windows':\n",
    "    font_name = font_manager.FontProperties(fname=\"c:/Windows/Fonts/malgun.ttf\").get_name()\n",
    "    rc('font', family = font_name)\n",
    "\n",
    "else:\n",
    "    rc('font', family='AppleGothic')\n",
    "\n",
    "matplotlib.rcParams['axes.unicode_minus'] = False\n",
    "\n",
    "preseason_df = pd.read_csv(\"D:/SourceCode/6th_data/Pre_Season_Batter.csv\")\n",
    "\n",
    "regular_season_df = pd.read_csv(\"D:/SourceCode/6th_data/Regular_Season_Batter.csv\")\n",
    "\n",
    "print(preseason_df.shape)\n",
    "\n",
    "display(preseason_df.head())\n",
    "\n",
    "display(preseason_df.describe())\n",
    "\n",
    "# preseason_df.hist(figsize=(10, 9))\n",
    "# plt.tight_layout()\n",
    "# plt.show()\n",
    "\n",
    "regular_count = regular_season_df.groupby('year')['batter_id'].count().rename('regular')\n",
    "\n",
    "preseason_count = preseason_df.groupby('year')['batter_id'].count().rename('preseason')\n",
    "pd.concat([regular_count, preseason_count, np.round(preseason_count/regular_count, 2).rename('ratio')], axis=1).transpose().loc[:,2002:]\n",
    "\n",
    "regular_season_df['new_idx'] = regular_season_df['batter_name'] + regular_season_df['year'].apply(str)\n",
    "preseason_df['new_idx'] = preseason_df['batter_name'] + preseason_df['year'].apply(str)\n",
    "\n",
    "intersection_idx = list(set(regular_season_df['new_idx']). intersection(preseason_df['new_idx']))\n",
    "\n",
    "regular_season_new = regular_season_df.loc[regular_season_df['new_idx'].apply(lambda x: x in intersection_idx)].copy()\n",
    "regular_season_new = regular_season_new.sort_values(by='new_idx').reset_index(drop=True)\n",
    "\n",
    "preseason_new = preseason_df.loc[preseason_df['new_idx'].apply(lambda x: x in intersection_idx)].copy()\n",
    "preseason_new = preseason_new.sort_values(by='new_idx').reset_index(drop=True)\n",
    "\n",
    "print(regular_season_new.shape, preseason_new.shape)\n",
    "sum(regular_season_new['new_idx'] == regular_season_new['new_idx'])\n",
    "\n",
    "correlation = regular_season_new['OPS'].corr(preseason_new['OPS'])\n",
    "sns.scatterplot(regular_season_new['OPS'], preseason_new['OPS'])\n",
    "plt.title('correlation(상관계수): ' + str(np.round(correlation, 2)), fontsize=20)\n",
    "plt.xlabel(\"정규시즌 OPS\", fontsize = 12)\n",
    "plt.ylabel(\"프리시즌 OPS\", fontsize = 12)\n",
    "plt.show()\n",
    "\n"
   ]
  }
 ]
}